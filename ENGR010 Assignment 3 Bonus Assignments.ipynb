{
 "cells": [
  {
   "cell_type": "markdown",
   "id": "1df38f80",
   "metadata": {},
   "source": [
    "<h2 style=\"text-align:center\"><strong>Engineering Assignment 3: Bonus Assignments</strong></h2>"
   ]
  },
  {
   "cell_type": "markdown",
   "id": "025a9bb6-e5cd-460f-ad49-42e5de49b4b2",
   "metadata": {},
   "source": [
    "## Using a Function to Determine the Largest Driveway given different Budgets"
   ]
  },
  {
   "cell_type": "markdown",
   "id": "97491a66",
   "metadata": {},
   "source": [
    "This section will calculate the largest driveway that can be built given different budget sizes. If the budget is to low to complete the smallest driveway, the amount of more money needed will be returned. If not the largest driveway given the budget will be chosen and the size and money not used will be given to the user. \n",
    "\n",
    "I will be using a function so the code can easily be repeated given different budgets. The function will create a list of all cost for all different driveway sizes, calculate the largest driveway that can be built or if the smallest driveway is outside of the budget, and will print the size of the largest driveway possible and the excess money."
   ]
  },
  {
   "cell_type": "code",
   "execution_count": 192,
   "id": "74fa6672",
   "metadata": {},
   "outputs": [
    {
     "name": "stdout",
     "output_type": "stream",
     "text": [
      "You have a budget of $100\n",
      "The budget is too small to complete any project\n",
      "You need $135 more dollars to complete the smallest driveway (10ft x 10ft)\n"
     ]
    }
   ],
   "source": [
    "def drivewaycheck(b): #formated as a function so you do not have to copy and paste into every cell\n",
    "    width=10#width in feet\n",
    "    costpercuft=4.27/2*1.1 #cost per square foot for depth of 4\"\n",
    "    Table=[]\n",
    "    maxlength=0\n",
    "    for i in range(10,31):#for every length 10 to 30\n",
    "        Table.append(round(costpercuft*width*i))#add all the costs for driveway of width 10 from length 10 to 30\n",
    "        if (round(costpercuft*width*i) <= b):#if the driveway is in the budget increase the longest driveway in budget by one\n",
    "            maxlength+=1\n",
    "    print(f\"You have a budget of ${b}\")\n",
    "    if (maxlength==0):#if the budget can never buy a driveway you don't have enough money #printing relevant info\n",
    "        print(f\"The budget is too small to complete any project\\nYou need ${Table[maxlength]-b} more dollars to complete the smallest driveway (10ft x 10ft)\")\n",
    "    elif(maxlength<=20):#else if the number of driveways you can build is less than all the driveways\n",
    "        #you can build one of the driveways but not the most expensive one. #printing info about the longest driveway you can build\n",
    "        print(f\"The largest driveway you can afford is {maxlength+9}ft x 10ft \\nThe driveway costs ${Table[maxlength-1]} and you would have ${round(b-Table[maxlength-1],2)} left over\")\n",
    "    else:#other wise you have enough money to buy the largest driveway #printing info on cost and excess money\n",
    "        print(f\"You can afford the largest driveway ({maxlength+9}ft x 10ft)\\nThe driveway costs ${Table[maxlength-1]} and you would have ${round(b-Table[maxlength-1],2)} left over\")\n",
    "\n",
    "        \n",
    "#  In this cell, test the case with a budget too small to afford any driveway\n",
    "budget=100 #this budget is less than the cheapest driveway\n",
    "drivewaycheck(budget) #using the function to check the budget and printing relevant info\n",
    "\n",
    "\n"
   ]
  },
  {
   "cell_type": "code",
   "execution_count": 193,
   "id": "2ff05d65",
   "metadata": {},
   "outputs": [
    {
     "name": "stdout",
     "output_type": "stream",
     "text": [
      "You have a budget of $800\n",
      "You can afford the largest driveway (30ft x 10ft)\n",
      "The driveway costs $705 and you would have $95 left over\n"
     ]
    }
   ],
   "source": [
    "#  In this cell, test the case with a budget large enough to afford any size driveway\n",
    "budget=800 #this budget is bigger than the most expensive driveway\n",
    "drivewaycheck(budget) #using the function to check the budget and printing relevant info\n"
   ]
  },
  {
   "cell_type": "code",
   "execution_count": 194,
   "id": "82fb79d5",
   "metadata": {},
   "outputs": [
    {
     "name": "stdout",
     "output_type": "stream",
     "text": [
      "You have a budget of $400\n",
      "The largest driveway you can afford is 17ft x 10ft \n",
      "The driveway costs $399 and you would have $1 left over\n"
     ]
    }
   ],
   "source": [
    "#   In this cell, test the case with a budget that can only afford a driveway somewhere in the middle of the table\n",
    "budget=400 #this budget is in the middle of the table\n",
    "drivewaycheck(budget) #using the function to check the budget and printing relevant info\n"
   ]
  },
  {
   "cell_type": "markdown",
   "id": "4e005f65",
   "metadata": {},
   "source": [
    "## Creating two Functions for Cost Tables\n",
    "### 1.  Calculating Cost per Square Foot \n",
    "### 2.  Creating Tables of Costs for Given Ranges of Length and Widths"
   ]
  },
  {
   "cell_type": "markdown",
   "id": "594de3e1",
   "metadata": {},
   "source": [
    "This section of code will be two functions one to calculate the cost per square foot of driveway given cost per bag volume of bag and depth of driveway and the other to print a table of driveway cost given lengths and widths given by tuples. Each tuple will be the minimum, maximum, and increment for each size on the table. \n",
    "\n",
    "The function for the cost per square foot will take the cost per bag and then divide it by the volume of the bag divided by depth. This is because square feet equals cubic feet divided by depth.\n",
    "\n",
    "The second function will print out a table of the cost for given tuples for both length and width. A for loop will be used to create the table and tuple slicing will be used to define the loops. The function will also use fprint to ensure even formatting."
   ]
  },
  {
   "cell_type": "code",
   "execution_count": 195,
   "id": "cbf93cf2",
   "metadata": {},
   "outputs": [
    {
     "name": "stdout",
     "output_type": "stream",
     "text": [
      "Using the function to calculate cost per square foot \n",
      "given cost per bag, volume of bag, and depth of driveway\n",
      "\n",
      "The depth is 0.33ft. The cost is $4.697 per bag. The volume of one bag is 0.66 cu ft.\n",
      "The cost per square foot is $2.35\n",
      "\n",
      "\n",
      "Single 10x10 driveway:\n",
      "\n",
      "        Widths:\n",
      "Lengths 10ft\n",
      " 10ft  $235      \n",
      "\n",
      "\n",
      "\n",
      "5x5 table of driveways length 5 to 9, widths 10 to 50 increment of 10:\n",
      "\n",
      "        Widths:\n",
      "Lengths 10ft      20ft      30ft      40ft      50ft\n",
      "  5ft  $118      $235      $352      $470      $588      \n",
      "  6ft  $141      $282      $423      $564      $705      \n",
      "  7ft  $164      $329      $494      $658      $822      \n",
      "  8ft  $188      $376      $564      $752      $940      \n",
      "  9ft  $212      $423      $634      $846      $1058     \n",
      "\n",
      "\n",
      "\n",
      "21x5 table of driveways length 10 to 30, widths 10 to 20 increment of 2:\n",
      "\n",
      "        Widths:\n",
      "Lengths 10ft      12ft      14ft      16ft      18ft      20ft\n",
      " 10ft  $235      $282      $329      $376      $423      $470      \n",
      " 11ft  $258      $310      $362      $414      $465      $517      \n",
      " 12ft  $282      $338      $395      $451      $508      $564      \n",
      " 13ft  $306      $367      $428      $489      $550      $611      \n",
      " 14ft  $329      $395      $461      $526      $592      $658      \n",
      " 15ft  $352      $423      $494      $564      $634      $705      \n",
      " 16ft  $376      $451      $526      $602      $677      $752      \n",
      " 17ft  $400      $479      $559      $639      $719      $799      \n",
      " 18ft  $423      $508      $592      $677      $761      $846      \n",
      " 19ft  $446      $536      $625      $714      $804      $893      \n",
      " 20ft  $470      $564      $658      $752      $846      $940      \n",
      " 21ft  $494      $592      $691      $790      $888      $987      \n",
      " 22ft  $517      $620      $724      $827      $931      $1034     \n",
      " 23ft  $540      $649      $757      $865      $973      $1081     \n",
      " 24ft  $564      $677      $790      $902      $1015     $1128     \n",
      " 25ft  $588      $705      $822      $940      $1058     $1175     \n",
      " 26ft  $611      $733      $855      $978      $1100     $1222     \n",
      " 27ft  $634      $761      $888      $1015     $1142     $1269     \n",
      " 28ft  $658      $790      $921      $1053     $1184     $1316     \n",
      " 29ft  $682      $818      $954      $1090     $1227     $1363     \n",
      " 30ft  $705      $846      $987      $1128     $1269     $1410     \n",
      "\n",
      "\n",
      "\n",
      "20x4 table of driveways length 1 to 20, widths 10 to 18 increment of 2:\n",
      "\n",
      "        Widths:\n",
      "Lengths 10ft      12ft      14ft      16ft      18ft\n",
      "  1ft  $24       $28       $33       $38       $42       \n",
      "  2ft  $47       $56       $66       $75       $85       \n",
      "  3ft  $70       $85       $99       $113      $127      \n",
      "  4ft  $94       $113      $132      $150      $169      \n",
      "  5ft  $118      $141      $164      $188      $212      \n",
      "  6ft  $141      $169      $197      $226      $254      \n",
      "  7ft  $164      $197      $230      $263      $296      \n",
      "  8ft  $188      $226      $263      $301      $338      \n",
      "  9ft  $212      $254      $296      $338      $381      \n",
      " 10ft  $235      $282      $329      $376      $423      \n",
      " 11ft  $258      $310      $362      $414      $465      \n",
      " 12ft  $282      $338      $395      $451      $508      \n",
      " 13ft  $306      $367      $428      $489      $550      \n",
      " 14ft  $329      $395      $461      $526      $592      \n",
      " 15ft  $352      $423      $494      $564      $634      \n",
      " 16ft  $376      $451      $526      $602      $677      \n",
      " 17ft  $400      $479      $559      $639      $719      \n",
      " 18ft  $423      $508      $592      $677      $761      \n",
      " 19ft  $446      $536      $625      $714      $804      \n",
      " 20ft  $470      $564      $658      $752      $846      \n",
      "\n"
     ]
    },
    {
     "data": {
      "text/plain": [
       "()"
      ]
     },
     "execution_count": 195,
     "metadata": {},
     "output_type": "execute_result"
    }
   ],
   "source": [
    "depth=0.33\n",
    "cost=4.27*1.1\n",
    "volume=0.66\n",
    "price=costpsqft(depth,cost,volume)\n",
    "\n",
    "print(\"Using the function to calculate cost per square foot \\ngiven cost per bag, volume of bag, and depth of driveway\")\n",
    "print(f\"\\nThe depth is {depth}ft. The cost is ${cost} per bag. The volume of one bag is {volume} cu ft.\")\n",
    "def costpsqft(depth,cost,volume):\n",
    "    return(round(cost/(volume/depth),2))#depth must be in ft, volume must be cu ft, v/d=sq ft\n",
    "\n",
    "print(f\"The cost per square foot is ${price}\\n\")\n",
    "\n",
    "def tablecost(length,width):\n",
    "    Title=\"Widths:\"\n",
    "    print(f\" {Title:>14}\")\n",
    "    widths=list(range(width[0],width[1]+1,width[2]))\n",
    "    print (f\"Lengths \",end=\"\")\n",
    "    print(*widths,sep=\"ft      \",end=\"ft\\n\")\n",
    "    for r in range(length[0],length[1]+1,length[2]):\n",
    "        print(f\"{r:>3}\",end=\"ft  \")\n",
    "        for c in range(width[0],width[1]+1,width[2]):\n",
    "            print(f\"${round(c*r*price):<7}\",end=\"  \")\n",
    "        print(\"\")\n",
    "    print()\n",
    "    return()\n",
    "\n",
    "print(\"\\nSingle 10x10 driveway:\\n\")\n",
    "tablecost((10,10,1),(10,10,1))\n",
    "\n",
    "print(\"\\n\\n5x5 table of driveways length 5 to 9, widths 10 to 50 increment of 10:\\n\")\n",
    "tablecost((5,9,1),(10,50,10))\n",
    "\n",
    "print(\"\\n\\n21x5 table of driveways length 10 to 30, widths 10 to 20 increment of 2:\\n\")\n",
    "tablecost((10,30,1),(10,20,2))\n",
    "\n",
    "print(\"\\n\\n20x4 table of driveways length 1 to 20, widths 10 to 18 increment of 2:\\n\")\n",
    "tablecost((1,20,1),(10,18,2))"
   ]
  },
  {
   "cell_type": "code",
   "execution_count": null,
   "id": "87ead396-a9b6-4945-b540-9adc01524a07",
   "metadata": {},
   "outputs": [],
   "source": []
  }
 ],
 "metadata": {
  "kernelspec": {
   "display_name": "Python 3 (ipykernel)",
   "language": "python",
   "name": "python3"
  },
  "language_info": {
   "codemirror_mode": {
    "name": "ipython",
    "version": 3
   },
   "file_extension": ".py",
   "mimetype": "text/x-python",
   "name": "python",
   "nbconvert_exporter": "python",
   "pygments_lexer": "ipython3",
   "version": "3.8.2"
  }
 },
 "nbformat": 4,
 "nbformat_minor": 5
}
