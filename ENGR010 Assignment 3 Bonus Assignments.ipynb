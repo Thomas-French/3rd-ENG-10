{
 "cells": [
  {
   "cell_type": "markdown",
   "id": "1df38f80",
   "metadata": {},
   "source": [
    "<h2 style=\"text-align:center\"><strong>Engineering Assignment 3: Bonus Assignments</strong></h2>"
   ]
  },
  {
   "cell_type": "markdown",
   "id": "e0fe7a2d",
   "metadata": {},
   "source": [
    "<strong>** Bonus Assignment 1: Driveway size for a fixed budget</strong>"
   ]
  },
  {
   "cell_type": "markdown",
   "id": "6284eecb",
   "metadata": {},
   "source": [
    "** Now that the data is in a data structure, your boss realizes you can start to use it to make decisions.  He asks you to write code that finds the longest 10' wide driveway they can afford for a specified budget. If their budget is too small to build even the smallest driveway, print an appropriate message and print how much more money they will need. If their budget is enough to build the biggest 10' driveway in the table, build that driveway and print how much money is left over. If it's somewhere in the middle, tell them the largest size driveway they can afford. In each case, tell the client the driveway size and how much money is left in their budget. Show that your code works for all three cases (budget less than smallest driveway cost, budget greater than biggest driveway cost, budget somewhere in between. Be sure to run your code!"
   ]
  },
  {
   "cell_type": "markdown",
   "id": "025a9bb6-e5cd-460f-ad49-42e5de49b4b2",
   "metadata": {},
   "source": [
    "## Using a Function to Determine the Largest Driveway given different Budgets"
   ]
  },
  {
   "cell_type": "markdown",
   "id": "97491a66",
   "metadata": {},
   "source": [
    "This section will calculate the largest driveway that can be built given different budget sizes. If the budget is to low to complete the smallest driveway, the amount of more money needed will be returned. If not the largest driveway given the budget will be chosen and the size and money not used will be given to the user. \n",
    "\n",
    "I will be using a function so the code can easily be repeated given different budgets. The function will create a list of all cost for all different driveway sizes, calculate the largest driveway that can be built or if the smallest driveway is outside of the budget, and will print the size of the largest driveway possible and the excess money."
   ]
  },
  {
   "cell_type": "code",
   "execution_count": 76,
   "id": "74fa6672",
   "metadata": {},
   "outputs": [
    {
     "name": "stdout",
     "output_type": "stream",
     "text": [
      "You have a budget of $100\n",
      "The budget is too small to complete any project\n",
      "You need $113.5 more dollars to complete the smallest driveway (10ft x 10ft)\n"
     ]
    }
   ],
   "source": [
    "def drivewaycheck(b): #formated as a function so you do not have to copy and paste into every cell\n",
    "    width=10#width in feet\n",
    "    costpercuft=4.27/2 #cost per square foot for depth of 4\"\n",
    "    Table=[]\n",
    "    maxlength=0\n",
    "    for i in range(10,31):#for every length 10 to 30\n",
    "        Table.append(round(costpercuft*width*i,2))\n",
    "        if (round(costpercuft*width*i,2) <= b):\n",
    "            maxlength+=1\n",
    "    print(f\"You have a budget of ${b}\")\n",
    "    if (maxlength==0):\n",
    "        print(f\"The budget is too small to complete any project\\nYou need ${Table[maxlength]-b} more dollars to complete the smallest driveway (10ft x 10ft)\")\n",
    "    elif(maxlength<=20):\n",
    "        print(f\"The largest driveway you can afford is {maxlength+9}ft x 10ft \\nThe driveway costs ${Table[maxlength-1]} and you would have ${round(b-Table[maxlength-1],2)} left over\")\n",
    "    else:\n",
    "        print(f\"You can afford the largest driveway ({maxlength+9}ft x 10ft)\\nThe driveway costs ${Table[maxlength-1]} and you would have ${round(b-Table[maxlength-1],2)} left over\")\n",
    "\n",
    "        \n",
    "#  In this cell, test the case with a budget too small to afford any driveway\n",
    "budget=100 #this budget is less than the cheapest driveway\n",
    "drivewaycheck(budget) #using the function to check the budget and printing relevant info\n",
    "\n",
    "\n"
   ]
  },
  {
   "cell_type": "code",
   "execution_count": 77,
   "id": "2ff05d65",
   "metadata": {},
   "outputs": [
    {
     "name": "stdout",
     "output_type": "stream",
     "text": [
      "You have a budget of $700\n",
      "You can afford the largest driveway (30ft x 10ft)\n",
      "The driveway cost $640.5 and you would have $59.5 left over\n"
     ]
    }
   ],
   "source": [
    "#  In this cell, test the case with a budget large enough to afford any size driveway\n",
    "budget=700 #this budget is bigger than the most expensive driveway\n",
    "drivewaycheck(budget) #using the function to check the budget and printing relevant info\n"
   ]
  },
  {
   "cell_type": "code",
   "execution_count": 81,
   "id": "82fb79d5",
   "metadata": {},
   "outputs": [
    {
     "name": "stdout",
     "output_type": "stream",
     "text": [
      "You have a budget of $414\n",
      "The largest driveway you can afford is 19ft x 10ft \n",
      "The driveway cost $405.65 and you would have $8.35 left over\n"
     ]
    }
   ],
   "source": [
    "#   In this cell, test the case with a budget that can only afford a driveway somewhere in the middle of the table\n",
    "budget=414 #this budget is in the middle of the table\n",
    "drivewaycheck(budget) #using the function to check the budget and printing relevant info\n"
   ]
  },
  {
   "cell_type": "markdown",
   "id": "4e005f65",
   "metadata": {},
   "source": [
    "**Bonus Assignment 2: Convert to a Fnction**"
   ]
  },
  {
   "cell_type": "markdown",
   "id": "27ad4120",
   "metadata": {},
   "source": [
    "** Write a function that returns the driveway cost per square foot given the depth of the driveway and the cost of and volume of concrete from a bag of mix.  Pass these to the function as parameters. Write a second function that prints a table of driveway costs for any range of lengths and widths, with any increment.  Pass two tuples of the form (minimum, maximum, increment) to the function as parameters, one for the width, and one for the length.  Inside the function, you unpack the tuples or use slicing to get the individual values. If you haven't done so already, use f-strings to properly line up the columns in the table. Now test your program and build four different tables of different sizes, one a single driveway (i.e. a one by one table), one a 5 x 5 table, the table from part 3 of this assignment, and a 20 (length) by 4 (width) table.  Other than the part 3 table, choose your own minimums, maximums and increments to get the correct size. \n",
    "\n",
    "In addition, replace the duplicated code in part 4 of this assignment with a function and use it to test the three cases again."
   ]
  },
  {
   "cell_type": "markdown",
   "id": "594de3e1",
   "metadata": {},
   "source": [
    "Edit <strong>this cell</strong> to explain how you plan to complete this section.  Then put your code into the code cell below.  Don't forget to print your results."
   ]
  },
  {
   "cell_type": "code",
   "execution_count": null,
   "id": "cbf93cf2",
   "metadata": {},
   "outputs": [],
   "source": []
  }
 ],
 "metadata": {
  "kernelspec": {
   "display_name": "Python 3 (ipykernel)",
   "language": "python",
   "name": "python3"
  },
  "language_info": {
   "codemirror_mode": {
    "name": "ipython",
    "version": 3
   },
   "file_extension": ".py",
   "mimetype": "text/x-python",
   "name": "python",
   "nbconvert_exporter": "python",
   "pygments_lexer": "ipython3",
   "version": "3.8.2"
  }
 },
 "nbformat": 4,
 "nbformat_minor": 5
}
