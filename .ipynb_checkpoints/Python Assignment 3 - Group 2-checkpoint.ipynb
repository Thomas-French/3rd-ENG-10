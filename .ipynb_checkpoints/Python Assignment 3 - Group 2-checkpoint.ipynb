{
 "cells": [
  {
   "cell_type": "markdown",
   "id": "9616f13b",
   "metadata": {},
   "source": [
    "<h1 style=\"text-align:center\">Weekly Python Assignment 3 - Group 2</h1>"
   ]
  },
  {
   "cell_type": "markdown",
   "id": "28cdad83",
   "metadata": {},
   "source": [
    "<strong>Instructions:</strong> For each exercise below, type the requested code into the cell below the exercise, then run your code to verify that it works correctly."
   ]
  },
  {
   "cell_type": "markdown",
   "id": "406d4221",
   "metadata": {},
   "source": [
    "1\\. Set a variable my_string equal to 'hello', and a variable x equal to 0.  Create a while loop that runs as long as my_string is equal to 'hello'.  Inside the loop, increment x by 1 and print the value of my_string.  When x is equal to 5, change the value of 'hello' to 'goodbye'. When the loop has completed, print the value of my_string."
   ]
  },
  {
   "cell_type": "code",
   "execution_count": null,
   "id": "d6a938b3",
   "metadata": {},
   "outputs": [],
   "source": []
  },
  {
   "cell_type": "markdown",
   "id": "ba6102bf",
   "metadata": {},
   "source": [
    "2\\. Set a variable x equal to 0. Create a while loop with a test condition of True.  Inside the loop, increment x by 1 and print its value.  When x is greater than 6, break out of the loop.  Then print the value of x."
   ]
  },
  {
   "cell_type": "code",
   "execution_count": null,
   "id": "1e6c7648",
   "metadata": {},
   "outputs": [],
   "source": []
  },
  {
   "cell_type": "markdown",
   "id": "27a71d4d",
   "metadata": {},
   "source": [
    "3\\. Create a variable my_condition and set it equal to True.  Create a while loop that runs as long as my_condition is equal to True.  Inside the loop, print the value of my_condition, and then set my_condition to False. When the loop is finished, print the value of my_condition."
   ]
  },
  {
   "cell_type": "code",
   "execution_count": null,
   "id": "f6eb4324",
   "metadata": {},
   "outputs": [],
   "source": []
  },
  {
   "cell_type": "markdown",
   "id": "f5a042da",
   "metadata": {},
   "source": [
    "4\\. Create a for loop that loops through each of the values \\[0, 1, 3, 5, 6, 8, 12, 15, 20\\] and prints the square of each value."
   ]
  },
  {
   "cell_type": "code",
   "execution_count": null,
   "id": "e3f3d19b",
   "metadata": {},
   "outputs": [],
   "source": []
  },
  {
   "cell_type": "markdown",
   "id": "23ccb744",
   "metadata": {},
   "source": [
    "5\\. Repeat exercise 4, but only print the values that are even."
   ]
  },
  {
   "cell_type": "code",
   "execution_count": null,
   "id": "37ef181f",
   "metadata": {},
   "outputs": [],
   "source": []
  },
  {
   "cell_type": "markdown",
   "id": "7817f8ca",
   "metadata": {},
   "source": [
    "6\\. Repeat exercise 8, but only print the first even value and then break out of the loop."
   ]
  },
  {
   "cell_type": "code",
   "execution_count": null,
   "id": "b84fc127",
   "metadata": {},
   "outputs": [],
   "source": []
  },
  {
   "cell_type": "markdown",
   "id": "6cebb915",
   "metadata": {},
   "source": [
    "7\\. Use a for loop to add up the even numbers from 2 to 70, inclusive."
   ]
  },
  {
   "cell_type": "code",
   "execution_count": null,
   "id": "24970983",
   "metadata": {},
   "outputs": [],
   "source": []
  },
  {
   "cell_type": "markdown",
   "id": "ab786940",
   "metadata": {},
   "source": [
    "8\\. Write nested for loops.  In the outer loop, go through each odd number 1,3,5 and 7.  In the inner loop, go through the even numbers 2,4,6,8.  Inside the inner loop, print the product of the current odd and even numbers."
   ]
  },
  {
   "cell_type": "code",
   "execution_count": null,
   "id": "4feba984",
   "metadata": {
    "scrolled": true
   },
   "outputs": [],
   "source": []
  },
  {
   "cell_type": "markdown",
   "id": "f262c2bf",
   "metadata": {},
   "source": [
    "9\\. Write code to test if a number is prime.  A prime number has no factors other than 1 and itself.  You can test if a number is prime by seeing if it is evenly divided by 2 or any odd number up to half its value. Test your code on the numbers 97,98 and 99 and make sure that only 97 is prime."
   ]
  },
  {
   "cell_type": "code",
   "execution_count": null,
   "id": "06a8a1dd",
   "metadata": {},
   "outputs": [],
   "source": []
  },
  {
   "cell_type": "markdown",
   "id": "64b3b317",
   "metadata": {},
   "source": [
    "10\\. Write nested for loops.  The outer loop should use the range function and a variable i to go through the numbers from 1 to 5. The inner loop should also use the range function with a variable j to go from 1 to 5.  Inside the inner loop, print the values of i and j."
   ]
  },
  {
   "cell_type": "code",
   "execution_count": null,
   "id": "2230abbd",
   "metadata": {},
   "outputs": [],
   "source": []
  },
  {
   "cell_type": "markdown",
   "id": "20374416",
   "metadata": {},
   "source": [
    "11\\. Repeat exercise 14, but only use odd numbers for both i and j."
   ]
  },
  {
   "cell_type": "code",
   "execution_count": null,
   "id": "f71932e4",
   "metadata": {
    "scrolled": true
   },
   "outputs": [],
   "source": []
  },
  {
   "cell_type": "markdown",
   "id": "e6131092",
   "metadata": {},
   "source": [
    "12\\. Create a list with elements 2, 4, 6 and 8.  Write a for loop that prints the square of each element in the list."
   ]
  },
  {
   "cell_type": "code",
   "execution_count": null,
   "id": "ad851f8e",
   "metadata": {},
   "outputs": [],
   "source": []
  },
  {
   "cell_type": "markdown",
   "id": "6968c052",
   "metadata": {},
   "source": [
    "13\\. Create an empty list called my_list.  Create a for loop that runs from 1 to 10 with an index variable i.  Append each value of i to the list.  When the loop has ended, print my_list."
   ]
  },
  {
   "cell_type": "code",
   "execution_count": null,
   "id": "23ea41bb",
   "metadata": {},
   "outputs": [],
   "source": []
  },
  {
   "cell_type": "markdown",
   "id": "9f5e0df7",
   "metadata": {},
   "source": [
    "14\\. Create a list with elements 1 to 5. Create a for loop that executes for each even number from 2 to 10.  Inside the loop, test if the loop variable is in the list.  If it is, print \"x is in the list\" except do not print the letter x, print the current value of the loop variable.    "
   ]
  },
  {
   "cell_type": "code",
   "execution_count": null,
   "id": "a9cab7c9",
   "metadata": {},
   "outputs": [],
   "source": []
  },
  {
   "cell_type": "markdown",
   "id": "35788928",
   "metadata": {},
   "source": [
    "15\\. Print the multiplication table for the numbers 1-12. The first row should be the numbers 1 to 12, and the first column should also have the numbers from 1 to 12.  The intersection between row n and column m should be the product n\\*m.  Later on we will learn to nicely format tables, but for now, you can \"pad\" every number with spaces to make it four spaces long by converting each number to a string and adding spaces in front of it so that every number takes up for spaces."
   ]
  },
  {
   "cell_type": "code",
   "execution_count": null,
   "id": "94527328",
   "metadata": {},
   "outputs": [],
   "source": []
  },
  {
   "cell_type": "markdown",
   "id": "ca39e870",
   "metadata": {},
   "source": [
    "16\\. For the list \\[1, 2, 5, 3, 6, 8, 10, 9, 13, 16, 17, 14, 18, 19, 21, 20, 12\\], print the minimum value, the maximum value, the length of the list, the first two elements of the list, and the fourth through seventh elements.  Then sort the list and print the sorted list.  Finally, print the sum of all the values in the list."
   ]
  },
  {
   "cell_type": "code",
   "execution_count": null,
   "id": "0189adce",
   "metadata": {},
   "outputs": [],
   "source": []
  }
 ],
 "metadata": {
  "kernelspec": {
   "display_name": "Python 3",
   "language": "python",
   "name": "python3"
  },
  "language_info": {
   "codemirror_mode": {
    "name": "ipython",
    "version": 3
   },
   "file_extension": ".py",
   "mimetype": "text/x-python",
   "name": "python",
   "nbconvert_exporter": "python",
   "pygments_lexer": "ipython3",
   "version": "3.7.13"
  }
 },
 "nbformat": 4,
 "nbformat_minor": 5
}
