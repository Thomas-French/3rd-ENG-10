{
 "cells": [
  {
   "cell_type": "markdown",
   "id": "1df38f80",
   "metadata": {},
   "source": [
    "<h2 style=\"text-align:center\"><strong>Weekly Assignment 3: Driveway Cost Table</strong></h2>"
   ]
  },
  {
   "cell_type": "markdown",
   "id": "27f1db81",
   "metadata": {},
   "source": [
    "** Continuing your work from Engineering Assignment 2, the boss liked your concrete driveway proposal, and now he has another assignment for you. As part of the bid process, the company would like to create a table that shows the prices for driveways of various sizes (using concrete mix).\n",
    "\n",
    "<ul>\n",
    "    <li>Vary the length from 10 feet to 30 feet</li>\n",
    "    <li>Vary to width from 10 feet to 24 feet in increments of 2 feet</li>\n",
    "    <li>Don't worry about partial bags; we will use all partial bags on other projects.</li>\n",
    "    <li>Round costs to the nearest dollar, and don't forget to add 10% for potential spillage.</li>\n",
    "</ul>"
   ]
  },
  {
   "cell_type": "markdown",
   "id": "187c7e8d",
   "metadata": {},
   "source": [
    "** <strong>Note: </strong>If you make your own markup cells instead of editing cells that start with 'Edit this cell', make sure no cell that starts with 'Edit this cell' is left in the final version. Furthermore, if you edited the cells start with 'Edit this cell', make sure that the instructions from the original file are overwritten. Your submission should not contain any instructions."
   ]
  },
  {
   "cell_type": "markdown",
   "id": "a76b0080",
   "metadata": {},
   "source": [
    "Below is a picture of what the boss has in mind.  Of course, the costs should not all be the same like they are in this example - the costs should be the actual estimate for the driveway with that width and length."
   ]
  },
  {
   "cell_type": "markdown",
   "id": "9676c4da",
   "metadata": {},
   "source": [
    "![title](driveway_solutions.png) <!-- run cell to expand picture -->"
   ]
  },
  {
   "cell_type": "markdown",
   "id": "57b1ad98",
   "metadata": {},
   "source": [
    "Edit <strong>this cell</strong> to explain what your boss wants you to do and describe how you plan to do it."
   ]
  },
  {
   "cell_type": "markdown",
   "id": "dd9dcaef",
   "metadata": {},
   "source": [
    "<strong>1. Build a table incrementing the lengths for width = 10 (that is, the first column of costs in the example)</strong>"
   ]
  },
  {
   "cell_type": "markdown",
   "id": "7db5455c",
   "metadata": {},
   "source": [
    "** Begin by writing a single for loop to calculate the cost for lengths from 10 to 30 feet for a driveway of width 10 feet. Print the results as two columns, the first column being the length, and the second column the cost. <strong>Hint:  to prevent the print command from wrapping to the next line after printing, for example, x, use the syntax print(x, end='').</strong> \n",
    "\n",
    "From last week's assignment, concrete mix (just add water) is available at Home Depot [6](https://www.homedepot.com/p/Quikrete-80-lb-Concrete-Mix-110180/100318511).  An 80 pound bag costs $4.27 and fills a 2 square foot by 4\" slab."
   ]
  },
  {
   "cell_type": "markdown",
   "id": "965bb546",
   "metadata": {},
   "source": [
    "Edit <strong>this cell</strong> to explain how you plan to complete this section.  Then put your code into the code cell below.  Don't forget to print your results."
   ]
  },
  {
   "cell_type": "code",
   "execution_count": 154,
   "id": "de8ef7a0",
   "metadata": {},
   "outputs": [
    {
     "name": "stdout",
     "output_type": "stream",
     "text": [
      "Table of cost for a 10ft wide and 4 inch deep driveway for length 10 to 30 using premix concrete\n",
      "\n",
      "Length Cost\n",
      "  10  $46.84\n",
      "  11  $51.52\n",
      "  12  $56.21\n",
      "  13  $60.89\n",
      "  14  $65.57\n",
      "  15  $70.26\n",
      "  16  $74.94\n",
      "  17  $79.63\n",
      "  18  $84.31\n",
      "  19  $88.99\n",
      "  20  $93.68\n",
      "  21  $98.36\n",
      "  22  $103.04\n",
      "  23  $107.73\n",
      "  24  $112.41\n",
      "  25  $117.1\n",
      "  26  $121.78\n",
      "  27  $126.46\n",
      "  28  $131.15\n",
      "  29  $135.83\n",
      "  30  $140.52\n"
     ]
    }
   ],
   "source": [
    "width=10#width in feet\n",
    "costpercuft=4.27/2 #cost per square foot for depth of 4\"\n",
    "\n",
    "print(\"Table of cost for a 10ft wide and 4 inch deep driveway for length 10 to 30 using premix concrete\\n\")\n",
    "print(\"Length Cost\")\n",
    "for i in range(10,31):#for every length 10 to 30\n",
    "    print(f\"{i:^6}${round((i*width)/costpercuft,2):^4}\") #print length and the calculated cost () rounded to the 2nd decimal place"
   ]
  },
  {
   "cell_type": "markdown",
   "id": "407fc340",
   "metadata": {},
   "source": [
    "<strong>2. Increment the width from 10 to 24 feet in increments of 2 feet</strong>"
   ]
  },
  {
   "cell_type": "markdown",
   "id": "e67b5b64",
   "metadata": {},
   "source": [
    "** Now wrap this loop with another for loop that increments the width from 10 to 24 feet.  Don't forget to add column headings for the width.  Be sure to line up the columns so everything looks nice - your solution should look like the example above."
   ]
  },
  {
   "cell_type": "markdown",
   "id": "5f64d006",
   "metadata": {},
   "source": [
    "Edit <strong>this cell</strong> to explain how you plan to complete this section.  Then put your code into the code cell below.  Don't forget to print your results."
   ]
  },
  {
   "cell_type": "code",
   "execution_count": 136,
   "id": "5dabbdab",
   "metadata": {},
   "outputs": [
    {
     "name": "stdout",
     "output_type": "stream",
     "text": [
      "                                       Cost Table                                      \n",
      "\n",
      "This table shows the cost of any driveway 4 inches \n",
      "deep from legths 10ft to 30ft and widths 10ft to 24ft\n",
      "incrementing by 2 made with premix concrete\n",
      "\n",
      "                                        Widths:                                        \n",
      "Lengths 10ft       12ft       14ft       16ft       18ft       20ft       22ft       24ft\n",
      " 10ft   $213.5     $256.2     $298.9     $341.6     $384.3     $427.0     $469.7     $512.4     \n",
      " 11ft   $234.85    $281.82    $328.79    $375.76    $422.73    $469.7     $516.67    $563.64    \n",
      " 12ft   $256.2     $307.44    $358.68    $409.92    $461.16    $512.4     $563.64    $614.88    \n",
      " 13ft   $277.55    $333.06    $388.57    $444.08    $499.59    $555.1     $610.61    $666.12    \n",
      " 14ft   $298.9     $358.68    $418.46    $478.24    $538.02    $597.8     $657.58    $717.36    \n",
      " 15ft   $320.25    $384.3     $448.35    $512.4     $576.45    $640.5     $704.55    $768.6     \n",
      " 16ft   $341.6     $409.92    $478.24    $546.56    $614.88    $683.2     $751.52    $819.84    \n",
      " 17ft   $362.95    $435.54    $508.13    $580.72    $653.31    $725.9     $798.49    $871.08    \n",
      " 18ft   $384.3     $461.16    $538.02    $614.88    $691.74    $768.6     $845.46    $922.32    \n",
      " 19ft   $405.65    $486.78    $567.91    $649.04    $730.17    $811.3     $892.43    $973.56    \n",
      " 20ft   $427.0     $512.4     $597.8     $683.2     $768.6     $854.0     $939.4     $1024.8    \n",
      " 21ft   $448.35    $538.02    $627.69    $717.36    $807.03    $896.7     $986.37    $1076.04   \n",
      " 22ft   $469.7     $563.64    $657.58    $751.52    $845.46    $939.4     $1033.34   $1127.28   \n",
      " 23ft   $491.05    $589.26    $687.47    $785.68    $883.89    $982.1     $1080.31   $1178.52   \n",
      " 24ft   $512.4     $614.88    $717.36    $819.84    $922.32    $1024.8    $1127.28   $1229.76   \n",
      " 25ft   $533.75    $640.5     $747.25    $854.0     $960.75    $1067.5    $1174.25   $1281.0    \n",
      " 26ft   $555.1     $666.12    $777.14    $888.16    $999.18    $1110.2    $1221.22   $1332.24   \n",
      " 27ft   $576.45    $691.74    $807.03    $922.32    $1037.61   $1152.9    $1268.19   $1383.48   \n",
      " 28ft   $597.8     $717.36    $836.92    $956.48    $1076.04   $1195.6    $1315.16   $1434.72   \n",
      " 29ft   $619.15    $742.98    $866.81    $990.64    $1114.47   $1238.3    $1362.13   $1485.96   \n",
      " 30ft   $640.5     $768.6     $896.7     $1024.8    $1152.9    $1281.0    $1409.1    $1537.2    \n"
     ]
    }
   ],
   "source": [
    "Title=\"Cost Table\"\n",
    "print(f\" {Title:^86}\")\n",
    "print(\"\\nThis table shows the cost of any driveway 4 inches \\ndeep from legths 10ft to 30ft and widths 10ft to 24ft\\nincrementing by 2 made with premix concrete\\n\")\n",
    "Title=\"Widths:\"\n",
    "\n",
    "widths=list(range(10,24+1,2))\n",
    "print(f\" {Title:^86}\")\n",
    "print (f\"Lengths \",end=\"\")\n",
    "print(*widths,sep=\"ft       \",end=\"ft\\n\")\n",
    "for r in range(10,31):\n",
    "    print(f\"{r:>3}\",end=\"ft   \")\n",
    "    for c in range(10,25,2):\n",
    "        print(f\"${round(c*r*costpercuft,2):<8}\",end=\"  \")\n",
    "    print()"
   ]
  },
  {
   "cell_type": "markdown",
   "id": "062c3626",
   "metadata": {},
   "source": [
    "<strong>3. Enter the data into a data structure</strong>"
   ]
  },
  {
   "cell_type": "markdown",
   "id": "a1a3ee97",
   "metadata": {},
   "source": [
    "** You show this to the boss, and he is satisfied with the looks of the table.  However, he realizes that he is going to need to use the data later on, so it also needs to be stored in a data structure - a single variable that points to all the data - in this case a list of lists.  Create an empty list for the table, and then, in a for loop, create an empty list for each row, one in each iteration - and store the calculated results into that row as you calculate them.  Put this version of your program in the code cell below. Be sure to print your data structure to make sure it holds the correct results."
   ]
  },
  {
   "cell_type": "markdown",
   "id": "dcc81204",
   "metadata": {},
   "source": [
    "Edit <strong>this cell</strong> to explain how you plan to complete this section.  Then put your code into the code cell below.  Don't forget to print your results.\n",
    "\n"
   ]
  },
  {
   "cell_type": "code",
   "execution_count": 153,
   "id": "8d20cab8",
   "metadata": {},
   "outputs": [
    {
     "name": "stdout",
     "output_type": "stream",
     "text": [
      "This is a rough printing of the raw date to show the table holds the correct date\n",
      "You can compare the values to the data in the table above\n",
      "\n",
      "You can get parts of the tables with Costtable[row][column] : 256.2\n",
      "Or you can print the whole table\n",
      "\n",
      "[213.5, 256.2, 298.9, 341.6, 384.3, 427.0, 469.7, 512.4]\n",
      "[234.85, 281.82, 328.79, 375.76, 422.73, 469.7, 516.67, 563.64]\n",
      "[256.2, 307.44, 358.68, 409.92, 461.16, 512.4, 563.64, 614.88]\n",
      "[277.55, 333.06, 388.57, 444.08, 499.59, 555.1, 610.61, 666.12]\n",
      "[298.9, 358.68, 418.46, 478.24, 538.02, 597.8, 657.58, 717.36]\n",
      "[320.25, 384.3, 448.35, 512.4, 576.45, 640.5, 704.55, 768.6]\n",
      "[341.6, 409.92, 478.24, 546.56, 614.88, 683.2, 751.52, 819.84]\n",
      "[362.95, 435.54, 508.13, 580.72, 653.31, 725.9, 798.49, 871.08]\n",
      "[384.3, 461.16, 538.02, 614.88, 691.74, 768.6, 845.46, 922.32]\n",
      "[405.65, 486.78, 567.91, 649.04, 730.17, 811.3, 892.43, 973.56]\n",
      "[427.0, 512.4, 597.8, 683.2, 768.6, 854.0, 939.4, 1024.8]\n",
      "[448.35, 538.02, 627.69, 717.36, 807.03, 896.7, 986.37, 1076.04]\n",
      "[469.7, 563.64, 657.58, 751.52, 845.46, 939.4, 1033.34, 1127.28]\n",
      "[491.05, 589.26, 687.47, 785.68, 883.89, 982.1, 1080.31, 1178.52]\n",
      "[512.4, 614.88, 717.36, 819.84, 922.32, 1024.8, 1127.28, 1229.76]\n",
      "[533.75, 640.5, 747.25, 854.0, 960.75, 1067.5, 1174.25, 1281.0]\n",
      "[555.1, 666.12, 777.14, 888.16, 999.18, 1110.2, 1221.22, 1332.24]\n",
      "[576.45, 691.74, 807.03, 922.32, 1037.61, 1152.9, 1268.19, 1383.48]\n",
      "[597.8, 717.36, 836.92, 956.48, 1076.04, 1195.6, 1315.16, 1434.72]\n",
      "[619.15, 742.98, 866.81, 990.64, 1114.47, 1238.3, 1362.13, 1485.96]\n",
      "[640.5, 768.6, 896.7, 1024.8, 1152.9, 1281.0, 1409.1, 1537.2]\n"
     ]
    }
   ],
   "source": [
    "Costtable=[]\n",
    "for i in range(10,31):#for every row\n",
    "    Costtable.append([((round(costpercuft*width*i,2))) for width in range(10,25,2)])#using list comprehension for conciseness\n",
    "    #append the list of cost for widths 10 to 24 interating by 2 as a new item to the list\n",
    "print(\"This is a rough printing of the raw data to show the table holds the correct date\")\n",
    "print(\"You can compare the values to the data in the table above\\n\")\n",
    "print(f\"You can get parts of the tables with Costtable[row][column] : {Costtable[0][1]}\\nOr you can print the whole table\\n\")\n",
    "\n",
    "print(*Costtable,sep=\"\\n\")#printing whole table\n",
    "\n"
   ]
  },
  {
   "cell_type": "markdown",
   "id": "de5aa0d6-e12b-4cde-b74f-231be45f8dd4",
   "metadata": {},
   "source": [
    "## Project Summary"
   ]
  },
  {
   "cell_type": "markdown",
   "id": "d8ce0b02",
   "metadata": {},
   "source": [
    "This project was creating datasets for very specific parameters of cost for concrete driveways. The calculations for this project are simplistic considering the price and material are known. The final result ends up being just a multiplication table. While the goal is simple formatting becomes the main challenge. \n",
    "\n",
    "Printing the table using multiple \"for\" loops and 2D lists is a simple method for storing or displaying data in a table. However with this method making professional formatting can be difficult. Using arrays like NumPy can simplify the complexity of creating data sets, has more simple and professional formatting, and allows easier manipulation of data using less computational power. \n",
    "\n",
    "This data table is also limited and very specific a function that allows a user input would reduce excess computation. A function would also increase the flexibility allowing the user to enter data on the cost of material, exact width, depth, and length of any project. \n",
    "\n",
    "However, if the company's niche is specifically premix concrete driveways within the range of the given parameters of length and width, this data table would be useful in getting quick rough estimates without any calculations."
   ]
  },
  {
   "cell_type": "markdown",
   "id": "bfc7a8d3",
   "metadata": {},
   "source": [
    "** Now go back and delete all the cells beginning with two asterisks.  Be sure all your answers make sense and are consistent, and that you have printed all the values so they can be seen. When you are finished, there should not be any cells that say \"Edit this cell\" because either you have edited those cells and replaced that text or you have deleted them. Double check your explanations to see if they are clear.  Then do a print preview of the notebook and print it to a pdf file.  Submit <strong>both</strong> the pdf and the notebook file."
   ]
  }
 ],
 "metadata": {
  "kernelspec": {
   "display_name": "Python 3 (ipykernel)",
   "language": "python",
   "name": "python3"
  },
  "language_info": {
   "codemirror_mode": {
    "name": "ipython",
    "version": 3
   },
   "file_extension": ".py",
   "mimetype": "text/x-python",
   "name": "python",
   "nbconvert_exporter": "python",
   "pygments_lexer": "ipython3",
   "version": "3.8.2"
  }
 },
 "nbformat": 4,
 "nbformat_minor": 5
}
