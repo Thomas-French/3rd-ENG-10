{
 "cells": [
  {
   "cell_type": "markdown",
   "id": "1df38f80",
   "metadata": {},
   "source": [
    "# Weekly Assignment 3: Driveway Cost Table"
   ]
  },
  {
   "cell_type": "markdown",
   "id": "57b1ad98",
   "metadata": {},
   "source": [
    "This project is creating tables that show the prices of driveways given different lengths and widths using concrete mix. The program will calculate the cost of the driveway using cost provided of \"$4.27 for a 2 square foot by 4\" slab\". The cost will be rounded to the nearest dollar and 10% will be added for potential spillage.\n",
    "\n",
    "The table will have length as the rows and width as the column indicated by the photo attached for the assignment. The code will first demonstate how the price will be calculated using a constant width of ten feet. Then a table for length 10 feet to 30 feet and 10 feet to 24 feet in increments of 2 feet will be printed. And then this same table will be stored as a list of lists."
   ]
  },
  {
   "cell_type": "markdown",
   "id": "dd9dcaef",
   "metadata": {},
   "source": [
    "### Table incrementing the lengths 10 to 30 for width = 10"
   ]
  },
  {
   "cell_type": "markdown",
   "id": "965bb546",
   "metadata": {},
   "source": [
    "This section wants a table of cost and length given a width of 10 feet. A for loop will be used to increment through all lengths 10 to 30 feet. Due to the calculation being based only on length, the length and the cost will be calculated and displayed in the same line using fprint."
   ]
  },
  {
   "cell_type": "code",
   "execution_count": 2,
   "id": "de8ef7a0",
   "metadata": {},
   "outputs": [
    {
     "name": "stdout",
     "output_type": "stream",
     "text": [
      "Table of cost for a 10ft wide and 4 inch deep driveway for length 10 to 30 using premix concrete\n",
      "\n",
      "Length Cost\n",
      "  10  $235 \n",
      "  11  $258 \n",
      "  12  $282 \n",
      "  13  $305 \n",
      "  14  $329 \n",
      "  15  $352 \n",
      "  16  $376 \n",
      "  17  $399 \n",
      "  18  $423 \n",
      "  19  $446 \n",
      "  20  $470 \n",
      "  21  $493 \n",
      "  22  $517 \n",
      "  23  $540 \n",
      "  24  $564 \n",
      "  25  $587 \n",
      "  26  $611 \n",
      "  27  $634 \n",
      "  28  $658 \n",
      "  29  $681 \n",
      "  30  $705 \n"
     ]
    }
   ],
   "source": [
    "width=10#width in feet\n",
    "costpersqft=4.27/2*1.1 #cost per square foot for depth of 4\" #10% for spillage\n",
    "\n",
    "print(\"Table of cost for a 10ft wide and 4 inch deep driveway for length 10 to 30 using premix concrete\\n\")\n",
    "print(\"Length Cost\")\n",
    "for i in range(10,31):#for every length 10 to 30\n",
    "    print(f\"{i:^6}${round((i*width*costpersqft)):^4}\") #print length and the calculated cost () rounded dollar"
   ]
  },
  {
   "cell_type": "markdown",
   "id": "407fc340",
   "metadata": {},
   "source": [
    "## Table with lengths from 10 to 30 feet and widths from 10 to 24 feet in increments of 2 feet"
   ]
  },
  {
   "cell_type": "markdown",
   "id": "5f64d006",
   "metadata": {},
   "source": [
    "In this cell the names of each column will be printed. Then using two for loops the price of each cell will be calculated using the cost per square foot multiplied by the row and column number. The name of the row will be printed within the first for loop "
   ]
  },
  {
   "cell_type": "code",
   "execution_count": 7,
   "id": "5dabbdab",
   "metadata": {},
   "outputs": [
    {
     "name": "stdout",
     "output_type": "stream",
     "text": [
      "                                       Cost Table                                      \n",
      "\n",
      "This table shows the cost of any driveway 4 inches \n",
      "deep from legths 10ft to 30ft and widths 10ft to 24ft\n",
      "incrementing by 2 made with premix concrete\n",
      "\n",
      "                                        Widths:                                        \n",
      "Lengths 10ft    12ft    14ft    16ft    18ft    20ft    22ft    24ft\n",
      " 10ft   $235    $282    $329    $376    $423    $470    $517    $564    \n",
      " 11ft   $258    $310    $362    $413    $465    $517    $568    $620    \n",
      " 12ft   $282    $338    $395    $451    $507    $564    $620    $676    \n",
      " 13ft   $305    $366    $427    $488    $550    $611    $672    $733    \n",
      " 14ft   $329    $395    $460    $526    $592    $658    $723    $789    \n",
      " 15ft   $352    $423    $493    $564    $634    $705    $775    $845    \n",
      " 16ft   $376    $451    $526    $601    $676    $752    $827    $902    \n",
      " 17ft   $399    $479    $559    $639    $719    $798    $878    $958    \n",
      " 18ft   $423    $507    $592    $676    $761    $845    $930    $1015   \n",
      " 19ft   $446    $535    $625    $714    $803    $892    $982    $1071   \n",
      " 20ft   $470    $564    $658    $752    $845    $939    $1033   $1127   \n",
      " 21ft   $493    $592    $690    $789    $888    $986    $1085   $1184   \n",
      " 22ft   $517    $620    $723    $827    $930    $1033   $1137   $1240   \n",
      " 23ft   $540    $648    $756    $864    $972    $1080   $1188   $1296   \n",
      " 24ft   $564    $676    $789    $902    $1015   $1127   $1240   $1353   \n",
      " 25ft   $587    $705    $822    $939    $1057   $1174   $1292   $1409   \n",
      " 26ft   $611    $733    $855    $977    $1099   $1221   $1343   $1465   \n",
      " 27ft   $634    $761    $888    $1015   $1141   $1268   $1395   $1522   \n",
      " 28ft   $658    $789    $921    $1052   $1184   $1315   $1447   $1578   \n",
      " 29ft   $681    $817    $953    $1090   $1226   $1362   $1498   $1635   \n",
      " 30ft   $705    $845    $986    $1127   $1268   $1409   $1550   $1691   \n"
     ]
    }
   ],
   "source": [
    "Title=\"Cost Table\"\n",
    "print(f\" {Title:^86}\")\n",
    "print(\"\\nThis table shows the cost of any driveway 4 inches \\ndeep from legths 10ft to 30ft and widths 10ft to 24ft\\nincrementing by 2 made with premix concrete\\n\")\n",
    "Title=\"Widths:\"\n",
    "\n",
    "widths=list(range(10,24+1,2))#a list of all the widths \n",
    "print(f\" {Title:^86}\")#titling the widths\n",
    "print (f\"Lengths \",end=\"\") #titling the lengths\n",
    "print(*widths,sep=\"ft    \",end=\"ft\\n\")# printing out all the widths for the list\n",
    "for r in range(10,31):# for every length 10 to 30\n",
    "    print(f\"{r:>3}\",end=\"ft   \")#print the length\n",
    "    for c in range(10,25,2):#for every widths\n",
    "        print(f\"${round(c*r*costpersqft):<5}\",end=\"  \")# print the cost per square foot x length x width\n",
    "    print()#new line"
   ]
  },
  {
   "cell_type": "markdown",
   "id": "062c3626",
   "metadata": {},
   "source": [
    "<strong>3. Enter the data into a data structure</strong>"
   ]
  },
  {
   "cell_type": "markdown",
   "id": "dcc81204",
   "metadata": {},
   "source": [
    "This code will functionally do the same process as the code in the cell above however instead of printing for every length and row the cost will be added to a list of list. This can be done consicely using list comprehension within a for loop. This will create a list of all the prices for all the widths for a given length. Each new item in the list will be for a new length."
   ]
  },
  {
   "cell_type": "code",
   "execution_count": 167,
   "id": "8d20cab8",
   "metadata": {},
   "outputs": [
    {
     "name": "stdout",
     "output_type": "stream",
     "text": [
      "This is a rough printing of the raw data to show the table holds the correct date\n",
      "You can compare the values to the data in the table above\n",
      "\n",
      "You can get parts of the tables with Costtable[row][column] : 282\n",
      "Or you can print the whole table\n",
      "\n",
      "[235, 282, 329, 376, 423, 470, 517, 564]\n",
      "[258, 310, 362, 413, 465, 517, 568, 620]\n",
      "[282, 338, 395, 451, 507, 564, 620, 676]\n",
      "[305, 366, 427, 488, 550, 611, 672, 733]\n",
      "[329, 395, 460, 526, 592, 658, 723, 789]\n",
      "[352, 423, 493, 564, 634, 705, 775, 845]\n",
      "[376, 451, 526, 601, 676, 752, 827, 902]\n",
      "[399, 479, 559, 639, 719, 798, 878, 958]\n",
      "[423, 507, 592, 676, 761, 845, 930, 1015]\n",
      "[446, 535, 625, 714, 803, 892, 982, 1071]\n",
      "[470, 564, 658, 752, 845, 939, 1033, 1127]\n",
      "[493, 592, 690, 789, 888, 986, 1085, 1184]\n",
      "[517, 620, 723, 827, 930, 1033, 1137, 1240]\n",
      "[540, 648, 756, 864, 972, 1080, 1188, 1296]\n",
      "[564, 676, 789, 902, 1015, 1127, 1240, 1353]\n",
      "[587, 705, 822, 939, 1057, 1174, 1292, 1409]\n",
      "[611, 733, 855, 977, 1099, 1221, 1343, 1465]\n",
      "[634, 761, 888, 1015, 1141, 1268, 1395, 1522]\n",
      "[658, 789, 921, 1052, 1184, 1315, 1447, 1578]\n",
      "[681, 817, 953, 1090, 1226, 1362, 1498, 1635]\n",
      "[705, 845, 986, 1127, 1268, 1409, 1550, 1691]\n"
     ]
    }
   ],
   "source": [
    "Costtable=[]\n",
    "for i in range(10,31):#for every row\n",
    "    Costtable.append([((round(costpersqft*width*i))) for width in range(10,25,2)])#using list comprehension for conciseness\n",
    "    #append the list of cost for widths 10 to 24 interating by 2 as a new item to the list\n",
    "print(\"This is a rough printing of the raw data to show the table holds the correct date\")\n",
    "print(\"You can compare the values to the data in the table above\\n\")\n",
    "print(f\"You can get parts of the tables with Costtable[row][column] : {Costtable[0][1]}\\nOr you can print the whole table\\n\")\n",
    "\n",
    "print(*Costtable,sep=\"\\n\")#printing whole table\n",
    "\n"
   ]
  },
  {
   "cell_type": "markdown",
   "id": "de5aa0d6-e12b-4cde-b74f-231be45f8dd4",
   "metadata": {},
   "source": [
    "## Project Summary"
   ]
  },
  {
   "cell_type": "markdown",
   "id": "d8ce0b02",
   "metadata": {},
   "source": [
    "This project was creating datasets for very specific parameters of cost for concrete driveways. The calculations for this project are simplistic considering the price and material are known. The final result ends up being just a multiplication table. While the goal is simple formatting becomes the main challenge. \n",
    "\n",
    "Printing the table using multiple \"for\" loops and 2D lists is a simple method for storing or displaying data in a table. However with this method making professional formatting can be difficult. Using arrays like NumPy can simplify the complexity of creating data sets, has more simple and professional formatting, and allows easier manipulation of data using less computational power. \n",
    "\n",
    "This data table is also limited and very specific a function that allows a user input would reduce excess computation. A function would also increase the flexibility allowing the user to enter data on the cost of material, exact width, depth, and length of any project. \n",
    "\n",
    "However, if the company's niche is specifically premix concrete driveways within the range of the given parameters of length and width, this data table would be useful in getting quick rough estimates without any calculations."
   ]
  }
 ],
 "metadata": {
  "kernelspec": {
   "display_name": "Python 3 (ipykernel)",
   "language": "python",
   "name": "python3"
  },
  "language_info": {
   "codemirror_mode": {
    "name": "ipython",
    "version": 3
   },
   "file_extension": ".py",
   "mimetype": "text/x-python",
   "name": "python",
   "nbconvert_exporter": "python",
   "pygments_lexer": "ipython3",
   "version": "3.8.2"
  }
 },
 "nbformat": 4,
 "nbformat_minor": 5
}
