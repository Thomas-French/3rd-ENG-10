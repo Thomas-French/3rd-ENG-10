{
 "cells": [
  {
   "cell_type": "markdown",
   "id": "9616f13b",
   "metadata": {},
   "source": [
    "<h1 style=\"text-align:center\">Weekly Python Assignment 3 - Group 3</h1>"
   ]
  },
  {
   "cell_type": "markdown",
   "id": "28cdad83",
   "metadata": {},
   "source": [
    "<strong>Instructions:</strong> For each exercise below, type the requested code into the cell below the exercise, then run your code to verify that it works correctly."
   ]
  },
  {
   "cell_type": "markdown",
   "id": "27a71d4d",
   "metadata": {},
   "source": [
    "1\\. Write a program that solves the quadratic equation ax<sup>2</sup> + bx + c = 0.  The program should ask the user to input the values a, b and c.  The progam should calculate and print the answers (real or complex) using the quadratic formula, and then ask the user if they want to quit or input additional values."
   ]
  },
  {
   "cell_type": "code",
   "execution_count": 4,
   "id": "d9b8bf9b",
   "metadata": {},
   "outputs": [
    {
     "name": "stdout",
     "output_type": "stream",
     "text": [
      "Find the solutions to ax^2+bx+c\n",
      "Insert value for a\n"
     ]
    },
    {
     "name": "stdin",
     "output_type": "stream",
     "text": [
      " 0\n"
     ]
    },
    {
     "name": "stdout",
     "output_type": "stream",
     "text": [
      "Insert value for b\n"
     ]
    },
    {
     "name": "stdin",
     "output_type": "stream",
     "text": [
      " 0\n"
     ]
    },
    {
     "name": "stdout",
     "output_type": "stream",
     "text": [
      "Insert value for c\n"
     ]
    },
    {
     "name": "stdin",
     "output_type": "stream",
     "text": [
      " 0\n"
     ]
    },
    {
     "name": "stdout",
     "output_type": "stream",
     "text": [
      "The answers to the quadratic are x = 0j and x = 0j\n",
      "Do you want to calculate another quadratic (y/n)\n"
     ]
    },
    {
     "name": "stdin",
     "output_type": "stream",
     "text": [
      " n\n"
     ]
    },
    {
     "name": "stdout",
     "output_type": "stream",
     "text": [
      "Thanks for using this program\n"
     ]
    }
   ],
   "source": [
    "import cmath #using cmath for square roots\n",
    "i=0 #check if continue program\n",
    "while(i<1):\n",
    "    print(\"Find the solutions to ax^2+bx+c\")\n",
    "\n",
    "    print(\"Insert value for a\")#getting a\n",
    "    a=int(input())\n",
    "\n",
    "    print(\"Insert value for b\")#getting b\n",
    "    b=int(input())\n",
    "\n",
    "    print(\"Insert value for c\")#getting c\n",
    "    c=int(input())\n",
    "\n",
    "    def quadratic(a,b,c):#function given a b and c to return answers to quadratic\n",
    "        x=[((-b+cmath.sqrt((b*b)-(4*a*c)))/2*a),((-b-cmath.sqrt((b**2)-(4*a*c)))/2*a)]#as a list for the multiple answers\n",
    "        return(x)\n",
    "    ans=quadratic(a,b,c)\n",
    "    print(f\"The answers to the quadratic are x = {ans[0]} and x = {ans[1]}\")#giving both answers\n",
    "    print(\"Do you want to calculate another quadratic (y/n)\")\n",
    "    yn=input()\n",
    "    if(str(yn) in \"y\"):#checking if to continue the program\n",
    "        i-=1\n",
    "    i+=1\n",
    "print(\"Thanks for using this program\")# the program will stop after one run by default"
   ]
  },
  {
   "cell_type": "markdown",
   "id": "f5a042da",
   "metadata": {},
   "source": [
    "2\\. Using a for loop, create a table of Celsius vs. Fahrenheit temperatures for every degree from 0 to 100 degrees F."
   ]
  },
  {
   "cell_type": "code",
   "execution_count": 2,
   "id": "e3f3d19b",
   "metadata": {},
   "outputs": [
    {
     "name": "stdout",
     "output_type": "stream",
     "text": [
      " Fahrenheit   Celsius   \n",
      "     0         -17.78   \n",
      "     1         -17.22   \n",
      "     2         -16.67   \n",
      "     3         -16.11   \n",
      "     4         -15.56   \n",
      "     5         -15.0    \n",
      "     6         -14.44   \n",
      "     7         -13.89   \n",
      "     8         -13.33   \n",
      "     9         -12.78   \n",
      "     10        -12.22   \n",
      "     11        -11.67   \n",
      "     12        -11.11   \n",
      "     13        -10.56   \n",
      "     14        -10.0    \n",
      "     15        -9.44    \n",
      "     16        -8.89    \n",
      "     17        -8.33    \n",
      "     18        -7.78    \n",
      "     19        -7.22    \n",
      "     20        -6.67    \n",
      "     21        -6.11    \n",
      "     22        -5.56    \n",
      "     23         -5.0    \n",
      "     24        -4.44    \n",
      "     25        -3.89    \n",
      "     26        -3.33    \n",
      "     27        -2.78    \n",
      "     28        -2.22    \n",
      "     29        -1.67    \n",
      "     30        -1.11    \n",
      "     31        -0.56    \n",
      "     32         0.0     \n",
      "     33         0.56    \n",
      "     34         1.11    \n",
      "     35         1.67    \n",
      "     36         2.22    \n",
      "     37         2.78    \n",
      "     38         3.33    \n",
      "     39         3.89    \n",
      "     40         4.44    \n",
      "     41         5.0     \n",
      "     42         5.56    \n",
      "     43         6.11    \n",
      "     44         6.67    \n",
      "     45         7.22    \n",
      "     46         7.78    \n",
      "     47         8.33    \n",
      "     48         8.89    \n",
      "     49         9.44    \n",
      "     50         10.0    \n",
      "     51        10.56    \n",
      "     52        11.11    \n",
      "     53        11.67    \n",
      "     54        12.22    \n",
      "     55        12.78    \n",
      "     56        13.33    \n",
      "     57        13.89    \n",
      "     58        14.44    \n",
      "     59         15.0    \n",
      "     60        15.56    \n",
      "     61        16.11    \n",
      "     62        16.67    \n",
      "     63        17.22    \n",
      "     64        17.78    \n",
      "     65        18.33    \n",
      "     66        18.89    \n",
      "     67        19.44    \n",
      "     68         20.0    \n",
      "     69        20.56    \n",
      "     70        21.11    \n",
      "     71        21.67    \n",
      "     72        22.22    \n",
      "     73        22.78    \n",
      "     74        23.33    \n",
      "     75        23.89    \n",
      "     76        24.44    \n",
      "     77         25.0    \n",
      "     78        25.56    \n",
      "     79        26.11    \n",
      "     80        26.67    \n",
      "     81        27.22    \n",
      "     82        27.78    \n",
      "     83        28.33    \n",
      "     84        28.89    \n",
      "     85        29.44    \n",
      "     86         30.0    \n",
      "     87        30.56    \n",
      "     88        31.11    \n",
      "     89        31.67    \n",
      "     90        32.22    \n",
      "     91        32.78    \n",
      "     92        33.33    \n",
      "     93        33.89    \n",
      "     94        34.44    \n",
      "     95         35.0    \n",
      "     96        35.56    \n",
      "     97        36.11    \n",
      "     98        36.67    \n",
      "     99        37.22    \n",
      "    100        37.78    \n"
     ]
    }
   ],
   "source": [
    "fname=\"Fahrenheit\"#titles of the rows\n",
    "cname=\"Celsius\"\n",
    "print(f\"{fname: ^12}{cname: ^12}\")#printing titles\n",
    "for i in range(0,101):# for 0 to 100\n",
    "    c=round(((i-32)/1.8),2)#Fahrenheit to Celsius formula#making C two points after the decimal point for clarity\n",
    "\n",
    "    print(f\"{i: ^12}{c: ^12}\")#printing"
   ]
  },
  {
   "cell_type": "markdown",
   "id": "23ccb744",
   "metadata": {},
   "source": [
    "3\\. A prime number is evenly divisible only by itself and 1.  Generate a list of the first 100 prime numbers.  Since any non-prime number is divisible by at least one prime number, you can test each odd number by seeing if it is evenly divisible by any number on the list of primes previously generated.  If it is not, you can add it to the list."
   ]
  },
  {
   "cell_type": "code",
   "execution_count": 42,
   "id": "37ef181f",
   "metadata": {},
   "outputs": [
    {
     "name": "stdout",
     "output_type": "stream",
     "text": [
      "The first 100 primes are [1, 2, 3, 5, 7, 11, 13, 17, 19, 23, 29, 31, 37, 41, 43, 47, 53, 59, 61, 67, 71, 73, 79, 83, 89, 97, 101, 103, 107, 109, 113, 127, 131, 137, 139, 149, 151, 157, 163, 167, 173, 179, 181, 191, 193, 197, 199, 211, 223, 227, 229, 233, 239, 241, 251, 257, 263, 269, 271, 277, 281, 283, 293, 307, 311, 313, 317, 331, 337, 347, 349, 353, 359, 367, 373, 379, 383, 389, 397, 401, 409, 419, 421, 431, 433, 439, 443, 449, 457, 461, 463, 467, 479, 487, 491, 499, 503, 509, 521, 523]\n"
     ]
    }
   ],
   "source": [
    "i=2#starting before 1 and 0 to avoid repition or dividing by 0 errors\n",
    "primes=[1]#list of primes including the first to check if # is divisible by a prime\n",
    "\n",
    "while(len(primes)<100):#while we do not have 100 primes\n",
    "    div=0#how many times can i be divided \n",
    "    for j in primes:# for every prime found so far\n",
    "        if(i%j==0):#if i is a product of a prime add to div\n",
    "            div+=1\n",
    "            \n",
    "    if(div>1):#if i is divisible by more than just 1 go to the next number\n",
    "        i+=1\n",
    "    elif(div<=1):#if i is only divisible by one add it to primes\n",
    "        primes.append(i)\n",
    "        i+=1\n",
    "    else:\n",
    "        i+=1\n",
    "print(f\"The first 100 primes are {primes}\")#printing the first 100 primes"
   ]
  },
  {
   "cell_type": "markdown",
   "id": "6cebb915",
   "metadata": {},
   "source": [
    "4\\. Write a list comprehension that generates the list of Celsius and Fahrenheit values from exercise 2, each pair of values as a list."
   ]
  },
  {
   "cell_type": "code",
   "execution_count": 3,
   "id": "24970983",
   "metadata": {},
   "outputs": [
    {
     "name": "stdout",
     "output_type": "stream",
     "text": [
      "Fahrenheit  Celsius   \n",
      "(0, -17.78)\n",
      "(1, -17.22)\n",
      "(2, -16.67)\n",
      "(3, -16.11)\n",
      "(4, -15.56)\n",
      "(5, -15.0)\n",
      "(6, -14.44)\n",
      "(7, -13.89)\n",
      "(8, -13.33)\n",
      "(9, -12.78)\n",
      "(10, -12.22)\n",
      "(11, -11.67)\n",
      "(12, -11.11)\n",
      "(13, -10.56)\n",
      "(14, -10.0)\n",
      "(15, -9.44)\n",
      "(16, -8.89)\n",
      "(17, -8.33)\n",
      "(18, -7.78)\n",
      "(19, -7.22)\n",
      "(20, -6.67)\n",
      "(21, -6.11)\n",
      "(22, -5.56)\n",
      "(23, -5.0)\n",
      "(24, -4.44)\n",
      "(25, -3.89)\n",
      "(26, -3.33)\n",
      "(27, -2.78)\n",
      "(28, -2.22)\n",
      "(29, -1.67)\n",
      "(30, -1.11)\n",
      "(31, -0.56)\n",
      "(32, 0.0)\n",
      "(33, 0.56)\n",
      "(34, 1.11)\n",
      "(35, 1.67)\n",
      "(36, 2.22)\n",
      "(37, 2.78)\n",
      "(38, 3.33)\n",
      "(39, 3.89)\n",
      "(40, 4.44)\n",
      "(41, 5.0)\n",
      "(42, 5.56)\n",
      "(43, 6.11)\n",
      "(44, 6.67)\n",
      "(45, 7.22)\n",
      "(46, 7.78)\n",
      "(47, 8.33)\n",
      "(48, 8.89)\n",
      "(49, 9.44)\n",
      "(50, 10.0)\n",
      "(51, 10.56)\n",
      "(52, 11.11)\n",
      "(53, 11.67)\n",
      "(54, 12.22)\n",
      "(55, 12.78)\n",
      "(56, 13.33)\n",
      "(57, 13.89)\n",
      "(58, 14.44)\n",
      "(59, 15.0)\n",
      "(60, 15.56)\n",
      "(61, 16.11)\n",
      "(62, 16.67)\n",
      "(63, 17.22)\n",
      "(64, 17.78)\n",
      "(65, 18.33)\n",
      "(66, 18.89)\n",
      "(67, 19.44)\n",
      "(68, 20.0)\n",
      "(69, 20.56)\n",
      "(70, 21.11)\n",
      "(71, 21.67)\n",
      "(72, 22.22)\n",
      "(73, 22.78)\n",
      "(74, 23.33)\n",
      "(75, 23.89)\n",
      "(76, 24.44)\n",
      "(77, 25.0)\n",
      "(78, 25.56)\n",
      "(79, 26.11)\n",
      "(80, 26.67)\n",
      "(81, 27.22)\n",
      "(82, 27.78)\n",
      "(83, 28.33)\n",
      "(84, 28.89)\n",
      "(85, 29.44)\n",
      "(86, 30.0)\n",
      "(87, 30.56)\n",
      "(88, 31.11)\n",
      "(89, 31.67)\n",
      "(90, 32.22)\n",
      "(91, 32.78)\n",
      "(92, 33.33)\n",
      "(93, 33.89)\n",
      "(94, 34.44)\n",
      "(95, 35.0)\n",
      "(96, 35.56)\n",
      "(97, 36.11)\n",
      "(98, 36.67)\n",
      "(99, 37.22)\n",
      "(100, 37.78)\n"
     ]
    }
   ],
   "source": [
    "print(f\"{fname: <8}{cname: ^12}\")#printing titles\n",
    "temps=[(c,round(((c-32)/1.8),2)) for c in range(0,101)] #for range list is c,(c-32)/1.8 the second is rounded(x,2) 2 determines decimal points\n",
    "print(*temps, sep = \"\\n\")#print the list with each value of list on a new line"
   ]
  },
  {
   "cell_type": "markdown",
   "id": "7817f8ca",
   "metadata": {},
   "source": [
    "5\\. Creates a grid consisting of n+1 evenly spaced values between two points a and b, inclusive (i.e. including a and b). Do this first using an ordinary for loop, and then do it using a list comprehension."
   ]
  },
  {
   "cell_type": "code",
   "execution_count": 215,
   "id": "b84fc127",
   "metadata": {},
   "outputs": [
    {
     "name": "stdout",
     "output_type": "stream",
     "text": [
      "[0, 1, 2, 3, 4, 5, 6, 7, 8, 9, 10, 11, 12, 13, 14, 15, 16]\n",
      "[0, 2, 4, 6, 8, 10, 12, 14, 16]\n",
      "[0, 4, 8, 12, 16]\n",
      "[0, 8, 16]\n",
      "\n",
      "Gap: Values:\n",
      "(1, [0, 1, 2, 3, 4, 5, 6, 7, 8, 9, 10, 11, 12, 13, 14, 15, 16])\n",
      "(2, [0, 2, 4, 6, 8, 10, 12, 14, 16])\n",
      "(4, [0, 4, 8, 12, 16])\n",
      "(8, [0, 8, 16])\n",
      "\n",
      "[0, 1, 2, 3, 4, 5, 6, 7, 8, 9, 10, 11, 12, 13, 14, 15, 16]\n",
      "[0, 2, 4, 6, 8, 10, 12, 14, 16]\n",
      "[0, 3, 6, 9, 12, 16]\n",
      "[0, 4, 8, 12, 16]\n",
      "[0, 5, 10, 16]\n",
      "[0, 6, 16]\n",
      "[0, 7, 16]\n",
      "[0, 8, 16]\n",
      "[0, 16]\n",
      "[0, 16]\n",
      "[0, 16]\n",
      "[0, 16]\n",
      "[0, 16]\n",
      "[0, 16]\n",
      "[0, 16]\n",
      "\n",
      "Gap: Values:\n",
      "(1, [0, 1, 2, 3, 4, 5, 6, 7, 8, 9, 10, 11, 12, 13, 14, 15], 16)\n",
      "(2, [0, 2, 4, 6, 8, 10, 12, 14], 16)\n",
      "(3, [0, 3, 6, 9, 12], 16)\n",
      "(4, [0, 4, 8, 12], 16)\n",
      "(5, [0, 5, 10], 16)\n",
      "(6, [0, 6], 16)\n",
      "(7, [0, 7], 16)\n",
      "(8, [0, 8], 16)\n",
      "(9, [0], 16)\n",
      "(10, [0], 16)\n",
      "(11, [0], 16)\n",
      "(12, [0], 16)\n",
      "(13, [0], 16)\n",
      "(14, [0], 16)\n",
      "(15, [0], 16)\n"
     ]
    }
   ],
   "source": [
    "#I am assuming since it says \"evenly spaced\" it does not want the list of values \n",
    "#when the gap from the last value to b is not the same as every other gap\n",
    "#if this wanted every one including those not fully evenly spaced. you could remove the if (leng%i==0) statement\n",
    "\n",
    "a=0#input any starting value a that is < b can be a negative :D\n",
    "b=16#input b\n",
    "spaced=[]#list to put values\n",
    "\n",
    "for i in range(1,b-a):#for every value 1 to the length of a to b\n",
    "    leng=b-a\n",
    "    if(leng%i==0):#if the length is divisible by that value\n",
    "        intvals=[]#make a list\n",
    "        for divs in range(int(leng/i)+1):#for the number of times the value can be in the length\n",
    "            intvals.append(a+int(divs*i))#add to the list intial plus the value for the # of times decided by the for loop above\n",
    "        spaced.append(intvals)#add each value acceptable to a list\n",
    "print(*spaced,sep=\"\\n\")#printing the list of evenly spaced values between two points a and b\n",
    "\n",
    "spaced=[(rows,[(a+int(divs*rows)) for divs in range(int(leng/rows)+1)]) for rows in range(1,b-a) if leng%rows==0]\n",
    "#list = gap , list of the intial plus space between x divs with divs being the number of values that can be evenly spaced given\n",
    "#that gap size, doing this for every value 1 to the length of a to b if the length is evenly divided by the value\n",
    "print(\"\\nGap: Values:\")\n",
    "print(*spaced,sep=\"\\n\") #printing the distance between evenly spaced values and the values themselves\n",
    "print()\n",
    "\n",
    "# this is doing ever value even the ones not fully evenly spaced\n",
    "spaced=[]\n",
    "for i in range(1,b-a):#for every value 1 to the length of a to b\n",
    "    leng=b-a\n",
    "    intvals=[]#make a list\n",
    "    for divs in range(int(leng/i)):#for the number of times the value can be in the length #no plus one because appending b later\n",
    "        intvals.append(a+int(divs*i))#add to the list intial plus the value for the # of times decided by the for loop above\n",
    "    intvals.append(b)#making sure the list includes b\n",
    "    spaced.append(intvals)#add each value acceptable to a list\n",
    "print(*spaced,sep=\"\\n\")#printing the list of evenly spaced values between two points a and b\n",
    "\n",
    "\n",
    "spaced=[(rows,[(a+int(divs*rows)) for divs in range(int(leng/rows))],b) for rows in range(1,b-a)]\n",
    "print(\"\\nGap: Values:\")\n",
    "print(*spaced,sep=\"\\n\") #printing the distance between spaced values and the values themselves\n",
    "#there is awkard brakets to ensure a and b are included"
   ]
  },
  {
   "cell_type": "code",
   "execution_count": null,
   "id": "5a920bcf-af94-41b4-9fa7-8d35b99f7a6b",
   "metadata": {},
   "outputs": [],
   "source": []
  }
 ],
 "metadata": {
  "kernelspec": {
   "display_name": "Python 3 (ipykernel)",
   "language": "python",
   "name": "python3"
  },
  "language_info": {
   "codemirror_mode": {
    "name": "ipython",
    "version": 3
   },
   "file_extension": ".py",
   "mimetype": "text/x-python",
   "name": "python",
   "nbconvert_exporter": "python",
   "pygments_lexer": "ipython3",
   "version": "3.8.2"
  }
 },
 "nbformat": 4,
 "nbformat_minor": 5
}
