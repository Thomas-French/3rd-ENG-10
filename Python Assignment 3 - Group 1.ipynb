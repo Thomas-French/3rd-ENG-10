{
 "cells": [
  {
   "cell_type": "markdown",
   "id": "9616f13b",
   "metadata": {},
   "source": [
    "<h1 style=\"text-align:center\">Weekly Python Assignment 3 - Group 1</h1>"
   ]
  },
  {
   "cell_type": "markdown",
   "id": "28cdad83",
   "metadata": {},
   "source": [
    "<strong>Instructions:</strong> For each exercise below, type the requested code into the cell below the exercise, then run your code to verify that it works correctly."
   ]
  },
  {
   "cell_type": "markdown",
   "id": "0d33cd92",
   "metadata": {},
   "source": [
    "1. Set a variable x equal to 0.  Create a while loop that runs as long as the variable x is less than 5.  Inside the loop, print the value of x, then increment it by 1. When the loop is finished, print \"The loop is finished\"."
   ]
  },
  {
   "cell_type": "code",
   "execution_count": null,
   "id": "58da4b1a",
   "metadata": {},
   "outputs": [],
   "source": []
  },
  {
   "cell_type": "markdown",
   "id": "406d4221",
   "metadata": {},
   "source": [
    "2. Set a variable my_string equal to 'hello', and a variable x equal to 0.  Create a while loop that runs as long as my_string is equal to 'hello'.  Inside the loop, increment x by 1 and print the value of my_string.  When x is equal to 5, change the value of 'hello' to 'goodbye'. When the loop has completed, print the value of my_string."
   ]
  },
  {
   "cell_type": "code",
   "execution_count": null,
   "id": "d6a938b3",
   "metadata": {},
   "outputs": [],
   "source": []
  },
  {
   "cell_type": "markdown",
   "id": "ba6102bf",
   "metadata": {},
   "source": [
    "3. Set a variable x equal to 0. Create a while loop with a test condition of True.  Inside the loop, increment x by 1 and print its value.  When x is greater than 6, break out of the loop.  Then print the value of x."
   ]
  },
  {
   "cell_type": "code",
   "execution_count": null,
   "id": "1e6c7648",
   "metadata": {},
   "outputs": [],
   "source": []
  },
  {
   "cell_type": "markdown",
   "id": "1295223f",
   "metadata": {},
   "source": [
    "4. Set a variable x equal to 0.  Create a while loop using this variable that runs exactly 10 times.  To test it, print the value of x each time the loop executes. When it has finished, print \"The loop has run x times\" - but don't print the letter x, print the value of x."
   ]
  },
  {
   "cell_type": "code",
   "execution_count": null,
   "id": "b5b4d8dc",
   "metadata": {},
   "outputs": [],
   "source": []
  },
  {
   "cell_type": "markdown",
   "id": "27a71d4d",
   "metadata": {},
   "source": [
    "5. Create a variable my_condition and set it equal to True.  Create a while loop that runs as long as my_condition is equal to True.  Inside the loop, print the value of my_condition, and then set my_condition to False. When the loop is finished, print the value of my_condition."
   ]
  },
  {
   "cell_type": "code",
   "execution_count": null,
   "id": "f6eb4324",
   "metadata": {},
   "outputs": [],
   "source": []
  },
  {
   "cell_type": "markdown",
   "id": "e2f4972b",
   "metadata": {},
   "source": [
    "6. Create a for loop the prints the values 1, 2, and 3, one each time the loop executes."
   ]
  },
  {
   "cell_type": "code",
   "execution_count": null,
   "id": "f328882f",
   "metadata": {
    "scrolled": true
   },
   "outputs": [],
   "source": []
  },
  {
   "cell_type": "markdown",
   "id": "cdbcd683",
   "metadata": {},
   "source": [
    "7. Create a for loop the prints the strings 'cat', 'dog', and 'fish', one value each time the loop executes"
   ]
  },
  {
   "cell_type": "code",
   "execution_count": null,
   "id": "7880ed72",
   "metadata": {},
   "outputs": [],
   "source": []
  },
  {
   "cell_type": "markdown",
   "id": "f5a042da",
   "metadata": {},
   "source": [
    "8. Create a for loop that loops through each of the values \\[0, 1, 3, 5, 6, 8, 12, 15, 20\\] and prints each value."
   ]
  },
  {
   "cell_type": "code",
   "execution_count": null,
   "id": "e3f3d19b",
   "metadata": {},
   "outputs": [],
   "source": []
  },
  {
   "cell_type": "markdown",
   "id": "cf8332bd",
   "metadata": {},
   "source": [
    "9. Repeat exercise 8, but only print the values that are less than 10."
   ]
  },
  {
   "cell_type": "code",
   "execution_count": null,
   "id": "b83b76c9",
   "metadata": {},
   "outputs": [],
   "source": []
  },
  {
   "cell_type": "markdown",
   "id": "23ccb744",
   "metadata": {},
   "source": [
    "10. Repeat exercise 8, but only print the values that are even."
   ]
  },
  {
   "cell_type": "code",
   "execution_count": null,
   "id": "37ef181f",
   "metadata": {},
   "outputs": [],
   "source": []
  },
  {
   "cell_type": "markdown",
   "id": "7817f8ca",
   "metadata": {},
   "source": [
    "11. Repeat exercise 8, but only print the first even value and then break out of the loop."
   ]
  },
  {
   "cell_type": "code",
   "execution_count": null,
   "id": "b84fc127",
   "metadata": {},
   "outputs": [],
   "source": []
  },
  {
   "cell_type": "markdown",
   "id": "6cebb915",
   "metadata": {},
   "source": [
    "12. Use a for loop to add up the even numbers from 2 to 20, inclusive."
   ]
  },
  {
   "cell_type": "code",
   "execution_count": null,
   "id": "24970983",
   "metadata": {},
   "outputs": [],
   "source": []
  },
  {
   "cell_type": "markdown",
   "id": "ab786940",
   "metadata": {},
   "source": [
    "13. Write nested for loops.  In the outer loop, go through each odd number 1,3,5 and 7.  In the inner loop, go through the even numbers 2,4,6,8.  Inside the inner loop, print the sum of the current odd and even numbers. Hint: your first sum should be 1+2 = 3, and your second sum should be 1+4 = 5."
   ]
  },
  {
   "cell_type": "code",
   "execution_count": null,
   "id": "4feba984",
   "metadata": {},
   "outputs": [],
   "source": []
  },
  {
   "cell_type": "markdown",
   "id": "64b3b317",
   "metadata": {},
   "source": [
    "14. Write nested for loops.  The outer loop should use the range function and a variable i to go through the numbers from 1 to 5. The inner loop should also use the range function with a variable j to go from 1 to 5.  Inside the inner loop, print the values of i and j."
   ]
  },
  {
   "cell_type": "code",
   "execution_count": null,
   "id": "2230abbd",
   "metadata": {},
   "outputs": [],
   "source": []
  },
  {
   "cell_type": "markdown",
   "id": "20374416",
   "metadata": {},
   "source": [
    "15. Repeat exercise 14, but only use odd numbers for both i and j."
   ]
  },
  {
   "cell_type": "code",
   "execution_count": null,
   "id": "f71932e4",
   "metadata": {},
   "outputs": [],
   "source": []
  },
  {
   "cell_type": "markdown",
   "id": "38a95b0c",
   "metadata": {},
   "source": [
    "16. Create a list with elements 'a', 'b', 'c' and 'd'. Print the element 'b'."
   ]
  },
  {
   "cell_type": "code",
   "execution_count": null,
   "id": "73c1ef0b",
   "metadata": {},
   "outputs": [],
   "source": []
  },
  {
   "cell_type": "markdown",
   "id": "e6131092",
   "metadata": {},
   "source": [
    "17. Create a list with elements 2, 4, 6 and 8.  Write a for loop that prints the square of each element in the list."
   ]
  },
  {
   "cell_type": "code",
   "execution_count": null,
   "id": "ad851f8e",
   "metadata": {},
   "outputs": [],
   "source": []
  },
  {
   "cell_type": "markdown",
   "id": "6968c052",
   "metadata": {},
   "source": [
    "18. Create an empty list called my_list.  Create a for loop that runs from 1 to 10 with an index variable i.  Append each of value of i to the list.  When the loop has ended, print my_list."
   ]
  },
  {
   "cell_type": "code",
   "execution_count": null,
   "id": "23ea41bb",
   "metadata": {},
   "outputs": [],
   "source": []
  },
  {
   "cell_type": "markdown",
   "id": "9f5e0df7",
   "metadata": {},
   "source": [
    "19. Create a list with elements 1 to 5. Create a for loop that executes for each even number from 2 to 10.  Inside the loop, test if the loop variable is in the list.  If it is, print \"x is in the list\" except do not print the letter x, print the current value of the loop variable.    "
   ]
  },
  {
   "cell_type": "code",
   "execution_count": null,
   "id": "a9cab7c9",
   "metadata": {},
   "outputs": [],
   "source": []
  },
  {
   "cell_type": "markdown",
   "id": "f20e6954",
   "metadata": {},
   "source": [
    "20. Create an empty list called my_table.  Then create a for loop that goes from 0 to 9 with an index variable i.  Inside the for loop, create an empty list called my_row and append it to mytable.  Also inside the loop, create another for loop that goes from 0 to 9 with an index variable j.  Append each value of j to my_row.  When both loops are finished, print my_table."
   ]
  },
  {
   "cell_type": "code",
   "execution_count": null,
   "id": "07c20c25",
   "metadata": {},
   "outputs": [],
   "source": []
  },
  {
   "cell_type": "markdown",
   "id": "35788928",
   "metadata": {},
   "source": [
    "21\\. Using the my_table list from the previous exercise, print the table row by row using a for loop so that the result looks like a spreadsheet table, with 10 identical rows and each column having the same number in all 10 rows. Hint: if you add the option end='' to the print function, it will print but not move to the next line.\n",
    "\n",
    "So:\n",
    "\n",
    "print(a, end='')   \n",
    "print(' ', b)\n",
    "\n",
    "prints:\n",
    "\n",
    "a b"
   ]
  },
  {
   "cell_type": "code",
   "execution_count": null,
   "id": "94527328",
   "metadata": {},
   "outputs": [],
   "source": []
  },
  {
   "cell_type": "markdown",
   "id": "ca39e870",
   "metadata": {},
   "source": [
    "22\\. For the list \\[1, 2, 5, 3, 6, 8, 10, 9, 13, 16, 17, 14, 18, 19, 21, 20, 12\\], print the minimum value, the maximum value, the length of the list, the first two elements of the list, and the fourth through seventh elements.  Then sort the list and print the sorted list.  Finally, print the sum of all the values in the list."
   ]
  },
  {
   "cell_type": "code",
   "execution_count": null,
   "id": "0189adce",
   "metadata": {},
   "outputs": [],
   "source": []
  }
 ],
 "metadata": {
  "kernelspec": {
   "display_name": "Python 3",
   "language": "python",
   "name": "python3"
  },
  "language_info": {
   "codemirror_mode": {
    "name": "ipython",
    "version": 3
   },
   "file_extension": ".py",
   "mimetype": "text/x-python",
   "name": "python",
   "nbconvert_exporter": "python",
   "pygments_lexer": "ipython3",
   "version": "3.7.13"
  }
 },
 "nbformat": 4,
 "nbformat_minor": 5
}
